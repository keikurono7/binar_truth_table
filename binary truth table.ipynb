{
 "cells": [
  {
   "cell_type": "code",
   "execution_count": 4,
   "id": "13e3cc48",
   "metadata": {},
   "outputs": [],
   "source": [
    "def pb(exp):\n",
    "    for i in range(len(exp)):\n",
    "        if exp[i-1]=='!':\n",
    "            continue\n",
    "        if exp[i].isalpha(): \n",
    "            var[0].append(exp[i])\n",
    "        elif exp[i]=='!':\n",
    "            var[0].append(exp[i:i+2]) \n",
    "        else:\n",
    "            var[1].append(exp[i])\n",
    "    return var"
   ]
  },
  {
   "cell_type": "code",
   "execution_count": 89,
   "id": "8b056c23",
   "metadata": {},
   "outputs": [],
   "source": [
    "def gettable(var,l):\n",
    "    tt = []\n",
    "    hd = []\n",
    "    for i in range(l):\n",
    "        hd.append(chr(i+97))\n",
    "    hd.append(\"result\")\n",
    "    tt.append(hd)\n",
    "    for i in range(2**l):\n",
    "        temp = []\n",
    "        x = format(i,f'0{l}b')\n",
    "        x=str(x)\n",
    "        exp = ''\n",
    "        for i in range(l):\n",
    "            b = int(x[i])\n",
    "            if var[0][i][0]=='!':\n",
    "                b = 1-b\n",
    "                exp+=str(b)\n",
    "            else:\n",
    "                exp+=str(b)\n",
    "            temp.append(x[i])\n",
    "            if l-i==1:\n",
    "                continue\n",
    "            exp+=var[1][i]\n",
    "        res = format(eval(exp),'04b')\n",
    "        temp.append(res)\n",
    "        tt.append(temp)\n",
    "    return tt"
   ]
  },
  {
   "cell_type": "code",
   "execution_count": null,
   "id": "d49996c1",
   "metadata": {},
   "outputs": [],
   "source": [
    "from pprint import *\n",
    "var = [[],[]]\n",
    "a = input(\"Enter a boolean expression: \")\n",
    "var = pb(a)\n",
    "pprint(a)\n",
    "l=len(var[0])\n",
    "fin = gettable(var,l)\n",
    "pprint(fin)"
   ]
  }
 ],
 "metadata": {
  "kernelspec": {
   "display_name": "Python 3 (ipykernel)",
   "language": "python",
   "name": "python3"
  },
  "language_info": {
   "codemirror_mode": {
    "name": "ipython",
    "version": 3
   },
   "file_extension": ".py",
   "mimetype": "text/x-python",
   "name": "python",
   "nbconvert_exporter": "python",
   "pygments_lexer": "ipython3",
   "version": "3.9.13"
  }
 },
 "nbformat": 4,
 "nbformat_minor": 5
}

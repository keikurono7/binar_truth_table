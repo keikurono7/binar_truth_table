{
 "cells": [
  {
   "cell_type": "code",
   "execution_count": 4,
   "id": "13e3cc48",
   "metadata": {},
   "outputs": [],
   "source": [
    "def pb(exp):\n",
    "    for i in range(len(exp)):\n",
    "        if exp[i-1]=='!':\n",
    "            continue\n",
    "        if exp[i].isalpha(): \n",
    "            var[0].append(exp[i])\n",
    "        elif exp[i]=='!':\n",
    "            var[0].append(exp[i:i+2]) \n",
    "        else:\n",
    "            var[1].append(exp[i])\n",
    "    return var"
   ]
  },
  {
   "cell_type": "code",
   "execution_count": 84,
   "id": "8b056c23",
   "metadata": {},
   "outputs": [],
   "source": [
    "def gettable(var,l):\n",
    "    tt = []\n",
    "    hd = []\n",
    "    for i in range(l):\n",
    "        hd.append(chr(i+97))\n",
    "    hd.append(\"result\")\n",
    "    tt.append(hd)\n",
    "    for i in range(2**l):\n",
    "        temp = []\n",
    "        x = format(i,f'0{l}b')\n",
    "        x=str(x)\n",
    "        exp = ''\n",
    "        for i in range(l):\n",
    "            b = int(x[i])\n",
    "            if var[0][i][0]=='!':\n",
    "                b = 1-b\n",
    "                exp+=str(b)\n",
    "            else:\n",
    "                exp+=str(b)\n",
    "            temp.append(str(b))\n",
    "            if l-i==1:\n",
    "                continue\n",
    "            exp+=var[1][i]\n",
    "        res = format(eval(exp),'04b')\n",
    "        temp.append(res)\n",
    "        tt.append(temp)\n",
    "    return tt"
   ]
  },
  {
   "cell_type": "code",
   "execution_count": 85,
   "id": "09bf09a2",
   "metadata": {},
   "outputs": [],
   "source": [
    "a = \"!a+b+c\""
   ]
  },
  {
   "cell_type": "code",
   "execution_count": 86,
   "id": "d49996c1",
   "metadata": {},
   "outputs": [
    {
     "name": "stdout",
     "output_type": "stream",
     "text": [
      "'!a+b+c'\n",
      "[['a', 'b', 'c', 'result'],\n",
      " ['1', '0', '0', '0001'],\n",
      " ['1', '0', '1', '0010'],\n",
      " ['1', '1', '0', '0010'],\n",
      " ['1', '1', '1', '0011'],\n",
      " ['0', '0', '0', '0000'],\n",
      " ['0', '0', '1', '0001'],\n",
      " ['0', '1', '0', '0001'],\n",
      " ['0', '1', '1', '0010']]\n"
     ]
    }
   ],
   "source": [
    "from pprint import *\n",
    "var = [[],[]]\n",
    "var = pb(a)\n",
    "pprint(a)\n",
    "l=len(var[0])\n",
    "fin = gettable(var,l)\n",
    "pprint(fin)"
   ]
  },
  {
   "cell_type": "code",
   "execution_count": null,
   "id": "382f1211",
   "metadata": {},
   "outputs": [],
   "source": []
  },
  {
   "cell_type": "code",
   "execution_count": null,
   "id": "018a8c25",
   "metadata": {},
   "outputs": [],
   "source": []
  }
 ],
 "metadata": {
  "kernelspec": {
   "display_name": "Python 3 (ipykernel)",
   "language": "python",
   "name": "python3"
  },
  "language_info": {
   "codemirror_mode": {
    "name": "ipython",
    "version": 3
   },
   "file_extension": ".py",
   "mimetype": "text/x-python",
   "name": "python",
   "nbconvert_exporter": "python",
   "pygments_lexer": "ipython3",
   "version": "3.10.12"
  }
 },
 "nbformat": 4,
 "nbformat_minor": 5
}
